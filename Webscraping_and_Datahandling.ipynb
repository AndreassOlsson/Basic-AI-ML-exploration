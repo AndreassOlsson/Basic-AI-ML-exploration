{
  "nbformat": 4,
  "nbformat_minor": 0,
  "metadata": {
    "colab": {
      "provenance": [],
      "mount_file_id": "1pi4ChK3xca7OynrJYnV32-uKVBsbFdk9",
      "authorship_tag": "ABX9TyNZFZ1sGRXQS1oeK3f0nom6",
      "include_colab_link": true
    },
    "kernelspec": {
      "name": "python3",
      "display_name": "Python 3"
    },
    "language_info": {
      "name": "python"
    }
  },
  "cells": [
    {
      "cell_type": "markdown",
      "metadata": {
        "id": "view-in-github",
        "colab_type": "text"
      },
      "source": [
        "<a href=\"https://colab.research.google.com/github/AndreassOlsson/Basic-AI-ML-exploration/blob/main/Webscraping_and_Datahandling.ipynb\" target=\"_parent\"><img src=\"https://colab.research.google.com/assets/colab-badge.svg\" alt=\"Open In Colab\"/></a>"
      ]
    },
    {
      "cell_type": "markdown",
      "source": [
        "# Collecting"
      ],
      "metadata": {
        "id": "aXtnNTQ1GlZn"
      }
    },
    {
      "cell_type": "code",
      "source": [
        "import pandas as pd\n",
        "import numpy as np\n",
        "from bs4 import BeautifulSoup\n",
        "import requests\n",
        "import lxml\n",
        "import re\n",
        "from scipy import stats"
      ],
      "metadata": {
        "id": "J0fCOl9qXjr1"
      },
      "execution_count": null,
      "outputs": []
    },
    {
      "cell_type": "code",
      "source": [
        "def scrape(townIds, maxListingsForTown=50):\n",
        "  data = {}\n",
        "  for townId in townIds:\n",
        "\n",
        "    numPages = int(maxListingsForTown / 50) if maxListingsForTown >= 50 else 1\n",
        "    for page in range(numPages):\n",
        "\n",
        "      url = f\"https://www.hemnet.se/salda/bostader?location_ids%5B%5D={str(townId)}&page={str(page)}\"\n",
        "      headers = {'User-Agent': 'Mozilla/5.0 (Macintosh; Intel Mac OS X 10_10_1) AppleWebKit/537.36 (KHTML, like Gecko) Chrome/39.0.2171.95 Safari/537.36'}\n",
        "      r = requests.get(url, headers=headers)\n",
        "      soup = BeautifulSoup(r.content, 'lxml')\n",
        "      \n",
        "      houses = soup.find_all(\"div\", {\"class\": 'sold-property-listing'})\n",
        "      for house in houses:\n",
        "\n",
        "        name = house.select('.sold-property-listing__heading.qa-selling-price-title')\n",
        "        name = name[0].text.strip() if len(name) > 0 else None\n",
        "\n",
        "        sizeInfo = house.select('.sold-property-listing__subheading.sold-property-listing__area')\n",
        "        if len(sizeInfo) > 0:\n",
        "          sizeInfo = re.sub('\\n', ' ', sizeInfo[0].text).replace('  ','').split(' ')\n",
        "          sizeInfo = list(filter(lambda x: x != '' and x != '\\xa0', sizeInfo))\n",
        "\n",
        "          if len(sizeInfo) > 0:\n",
        "            size = sizeInfo[0].replace('\\xa0m²', '').replace('\\xa0','').replace('+','').replace(',','.').replace('rum','') if '\\xa0m²' or '+' in sizeInfo[0] else None\n",
        "            size = int(float(size))\n",
        "            room = sizeInfo[-1].replace('\\xa0rum','')  if '\\xa0rum' in sizeInfo[-1] else None\n",
        "\n",
        "        fee = house.select('div.sold-property-listing__size > div.sold-property-listing__fee')\n",
        "        fee = int(re.sub('\\s+','',fee[0].text).replace('kr/mån','')) if len(fee) > 0 else None\n",
        "        \n",
        "        endprice = house.select('div.sold-property-listing__price > div.sold-property-listing__subheading')\n",
        "        endprice = int(re.sub('\\s+','',endprice[0].text).replace('Slutpris','').replace('kr','')) if len(endprice) > 0 else None\n",
        "\n",
        "        kvmprice = None\n",
        "\n",
        "        saledate = house.select('div.sold-property-listing__price > div.sold-property-listing__sold-date')\n",
        "        if len(saledate) > 0:\n",
        "          saledate = re.sub('\\s+ ','',saledate[0].text).replace('Såld ', '').replace(' ', '-')\n",
        "          saledate = saledate.replace('januari', '01').replace('februari', '02').replace('mars', '03').replace('april', '04').replace('maj', '05').replace('juni', '06').replace('juli', '07').replace('augusti', '08').replace('september', '09').replace('oktober', '10').replace('november', '11').replace('december', '12')\n",
        "          saledate = list(saledate.split('-'))\n",
        "          saledate[0], saledate[2] = saledate[2], saledate[0]\n",
        "          saledate = '-'.join(saledate)\n",
        "\n",
        "        siteInfo = house.select('div.sold-property-listing__info > div.sold-property-listing__location > div')\n",
        "        if len(siteInfo) > 0:\n",
        "          typeofproperty = siteInfo[0].span.title.text\n",
        "\n",
        "          locInfo = siteInfo[0].text.replace(siteInfo[0].span.text, '')\n",
        "          locInfo = re.sub('\\s+', ' ', locInfo).strip().split(', ')\n",
        "          district = locInfo[0] if len(locInfo) > 1 else name\n",
        "          city = locInfo[-1] if len(locInfo) > 0 else None\n",
        "        \n",
        "        data[len(data)] = {\n",
        "            \"name\": name,\n",
        "            \"Size\": size,\n",
        "            \"Room\": room,\n",
        "            \"Fee\": fee,\n",
        "            \"Endprice\": endprice,\n",
        "            \"KvMPrice\": kvmprice,\n",
        "            \"Saledate\": saledate,\n",
        "            \"City\": city,\n",
        "            \"District\": district,\n",
        "            \"TypeOfProperty\": typeofproperty\n",
        "          }\n",
        "\n",
        "  df = pd.DataFrame(data).transpose()\n",
        "  df.to_csv('housedata2022.csv', index=False)"
      ],
      "metadata": {
        "id": "CjAUnyPMNsue"
      },
      "execution_count": null,
      "outputs": []
    },
    {
      "cell_type": "code",
      "source": [
        "towns = ['17821','17925','18037','17975','17898','17972']\n",
        "scrape(towns, maxListingsForTown=250)"
      ],
      "metadata": {
        "id": "PC9e6UcWZX0Q"
      },
      "execution_count": null,
      "outputs": []
    },
    {
      "cell_type": "markdown",
      "source": [
        "# Datahandling"
      ],
      "metadata": {
        "id": "JPJhNS4UG1tj"
      }
    },
    {
      "cell_type": "code",
      "source": [
        "def getMode_of_duplicateListingFeature(df, listing, feature):\n",
        "  x = np.array(df.loc[df['name']==listing][feature])\n",
        "  mode = stats.mode(x)[0][0] if len(x) > 0 else None\n",
        "  return mode"
      ],
      "metadata": {
        "id": "8f7JQKF7POCw"
      },
      "execution_count": null,
      "outputs": []
    },
    {
      "cell_type": "code",
      "source": [
        "def fillHoles(df, feature):\n",
        "\n",
        "  houses_noFeature = df[pd.to_numeric(df[feature], errors='coerce').isnull()]\n",
        "  houses_noFeature_names = sorted(set(np.array(houses_noFeature['name'])))\n",
        "\n",
        "  dupListings = df.loc[df['name'].isin(houses_noFeature_names)]\n",
        "  dupListings_withSize = dupListings[pd.to_numeric(dupListings[feature], errors='coerce').notnull()]\n",
        "\n",
        "  houses_noFeature.head()\n",
        "\n",
        "  for name in houses_noFeature_names:\n",
        "    i =  houses_noFeature[houses_noFeature['name']==name].index.values\n",
        "    mode = getMode_of_duplicateListingFeature(dupListings_withSize, name, feature)\n",
        "\n",
        "    if mode == None:\n",
        "      df = df.drop(i)\n",
        "    else:\n",
        "      df.loc[i, feature] = mode\n",
        "\n",
        "  return df"
      ],
      "metadata": {
        "id": "ajJuZt0D9Pbh"
      },
      "execution_count": null,
      "outputs": []
    },
    {
      "cell_type": "code",
      "source": [
        "def switchPlaces(hData):\n",
        "  for index, row in hData.iterrows():\n",
        "    if row['Size'] < row['Room']:\n",
        "      row['Size'], row['Room'] = row['Room'], row['Size']\n",
        "  return hData"
      ],
      "metadata": {
        "id": "p3thz6Io_Vbc"
      },
      "execution_count": null,
      "outputs": []
    },
    {
      "cell_type": "code",
      "source": [
        "def calc_kvmPrice(hData):\n",
        "  x = len(hData[pd.to_numeric(hData['Endprice'], errors='coerce').isnull()])\n",
        "  y = len(hData[pd.to_numeric(hData['Size'], errors='coerce').isnull()])\n",
        "  if x == 0 and y == 0:\n",
        "    for index, row in hData.iterrows():\n",
        "      kvmPrice = int(row['Endprice']/row['Size'])\n",
        "      hData.loc[index, 'KvMPrice'] = kvmPrice\n",
        "  return hData"
      ],
      "metadata": {
        "id": "_XXCAUiIUlYR"
      },
      "execution_count": null,
      "outputs": []
    },
    {
      "cell_type": "code",
      "source": [
        "def formatColumns(hData, columns):\n",
        "  for column in columns:\n",
        "    hData[column] = hData[column].apply(lambda x: x.title())\n",
        "    hData[column] = hData[column].apply(lambda x: re.split('-', x.replace('/', '-'))[0])\n",
        "  return hData"
      ],
      "metadata": {
        "id": "xkyNAu-bV0Li"
      },
      "execution_count": null,
      "outputs": []
    },
    {
      "cell_type": "code",
      "source": [
        "def clean_districts(hData):\n",
        "  for index, row in hData.iterrows():\n",
        "    try:\n",
        "      i = int(re.search(r'\\d+', row['District']).group())\n",
        "      if len(str(i)) == 5:\n",
        "        row['District'] = row['name']\n",
        "    except:\n",
        "      pass\n",
        "    \n",
        "    # Also fill in empty values\n",
        "    if str(row['District']) == '0':\n",
        "      row['District'] = row['name']\n",
        "  return hData"
      ],
      "metadata": {
        "id": "05B0NmVlbEQM"
      },
      "execution_count": null,
      "outputs": []
    },
    {
      "cell_type": "code",
      "source": [
        "def clean_typeofproperty(hData):\n",
        "  d = {'rätt': 'Bostadsrättslägenhet',\n",
        "      'Lägenhet': 'Bostadsrättslägenhet',\n",
        "      'Par': 'Radhus',\n",
        "      'illa': 'Villa',\n",
        "      'ård': 'Gård',\n",
        "      'hus': 'Fritidshus',\n",
        "      }\n",
        "\n",
        "  for index, row in hData.iterrows():\n",
        "    if any(row['TypeOfProperty'] in i for i in list(d.keys())):\n",
        "      hData.loc[index, 'TypeOfProperty'] = d[row['TypeOfProperty']]\n",
        "    elif not any(row['TypeOfProperty'] in i for i in list(d.values())):\n",
        "      hData.loc[index, 'TypeOfProperty'] = 'Other'\n",
        "  return hData"
      ],
      "metadata": {
        "id": "ddQ8pVVEgKqO"
      },
      "execution_count": null,
      "outputs": []
    },
    {
      "cell_type": "code",
      "source": [
        "def cleanHousingData(hData):\n",
        "  # If house without feature has been sold before, the feature value of that listing gets used in the house without feature\n",
        "  # If not possible, the house is removed from the dataset\n",
        "  features = ['Size', 'Room']\n",
        "  for feature in features:\n",
        "    hData = fillHoles(hData, feature)\n",
        "  \n",
        "  # Convert the room and size variables from strings to ints.\n",
        "  hData = hData.astype({'Size': int, 'Room': int}, errors='raise')\n",
        "\n",
        "  # Check if there are rows with more rooms than square meter, if so is the case switch place on these values\n",
        "  hData = switchPlaces(hData)\n",
        "\n",
        "  # Replace all the question marks with zeros, and do the same for NaN values.\n",
        "  hData.fillna(value = 0, inplace = True)\n",
        "\n",
        "  # Calculate the square meter price by dividing the selling price by the housing size.\n",
        "  hData = calc_kvmPrice(hData)\n",
        "\n",
        "  # fix all the districts to lowercase letters, except the first.\n",
        "  hData = formatColumns(hData, ['District', 'TypeOfProperty'])\n",
        "\n",
        "  # remove all the districts with postcodes (or addresses), if you want you can replace them with the names.\n",
        "  hData = clean_districts(hData)\n",
        "\n",
        "  # fix all the names that contains “rätt“ to be “Bostadsrättslägenhet”\n",
        "  # fix all the names that contains “Par/Rad/Kedjehus“ to be “Radhus”\n",
        "  # fix all the names that contains “illa“ to be “Villa”\n",
        "  # fix all the names that contains “ård“ to be “Gård”\n",
        "  # fix all the names that contains “hus“ to be “Fritidshus”\n",
        "  # All the rest should be “other”\n",
        "  hData = clean_typeofproperty(hData)\n",
        "\n",
        "  return hData"
      ],
      "metadata": {
        "id": "oUJQfBM38tW1"
      },
      "execution_count": null,
      "outputs": []
    },
    {
      "cell_type": "code",
      "source": [
        "hData22 = pd.read_csv('housedata2022.csv')\n",
        "cleanHousingData(hData22).to_csv('housedata2022_clean.csv', index=False)"
      ],
      "metadata": {
        "id": "fZ8lyhAzGcrG"
      },
      "execution_count": null,
      "outputs": []
    },
    {
      "cell_type": "code",
      "source": [
        "hData = pd.read_csv('/content/drive/MyDrive/Assignments/2/housedata.csv')\n",
        "cleanHousingData(hData).to_csv('housedata_clean.csv', index=False)"
      ],
      "metadata": {
        "id": "ooumr4gL-vPF"
      },
      "execution_count": null,
      "outputs": []
    }
  ]
}