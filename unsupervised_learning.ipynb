{
  "nbformat": 4,
  "nbformat_minor": 0,
  "metadata": {
    "colab": {
      "provenance": [],
      "collapsed_sections": [
        "sySQJvP5YX1u",
        "RiD55KU2-ApO"
      ],
      "authorship_tag": "ABX9TyM8H9WvagZBodgd97k8u0yI",
      "include_colab_link": true
    },
    "kernelspec": {
      "name": "python3",
      "display_name": "Python 3"
    },
    "language_info": {
      "name": "python"
    }
  },
  "cells": [
    {
      "cell_type": "markdown",
      "metadata": {
        "id": "view-in-github",
        "colab_type": "text"
      },
      "source": [
        "<a href=\"https://colab.research.google.com/github/AndreassOlsson/Basic-AI-ML-exploration/blob/main/Unsupervised_Learning.ipynb\" target=\"_parent\"><img src=\"https://colab.research.google.com/assets/colab-badge.svg\" alt=\"Open In Colab\"/></a>"
      ]
    },
    {
      "cell_type": "markdown",
      "source": [
        "# Train an unsupervised learning model to classify Iris flowers\n",
        "\n",
        "Utilize Kmeans clustering to differentiate between flower species in the famous iris dataset:\n",
        "\n",
        "\n",
        "*   Load, analyse and prepare the data\n",
        "*   Implement and visualize kmeans clustering\n",
        "\n"
      ],
      "metadata": {
        "id": "JjuY7rRbXBHV"
      }
    },
    {
      "cell_type": "markdown",
      "source": [
        "# Loading, analysing and preparing the data"
      ],
      "metadata": {
        "id": "sySQJvP5YX1u"
      }
    },
    {
      "cell_type": "markdown",
      "source": [
        "## Loading and exploring the data"
      ],
      "metadata": {
        "id": "9-8Y7n5nb_mv"
      }
    },
    {
      "cell_type": "code",
      "execution_count": null,
      "metadata": {
        "id": "bZK38o9hgrRu"
      },
      "outputs": [],
      "source": [
        "import matplotlib.pyplot as plt\n",
        "from sklearn import datasets\n",
        "import sklearn.metrics as sm\n",
        " \n",
        "import pandas as pd\n",
        "import numpy as np\n",
        " \n",
        "# Only needed if you want to display your plots inline if using Notebook\n",
        "# change inline to auto if you have Spyder installed\n",
        "%matplotlib inline"
      ]
    },
    {
      "cell_type": "code",
      "source": [
        "iris = datasets.load_iris()"
      ],
      "metadata": {
        "id": "V6Zs37EoK5Ta"
      },
      "execution_count": null,
      "outputs": []
    },
    {
      "cell_type": "code",
      "source": [
        "print(f'Dataset shape: {iris.data.shape}')\n",
        "print(f'Feature Names: {iris.feature_names}')\n",
        "print(f'Target Names: {iris.target_names}')\n",
        "\n",
        "print('\\nExamples:')\n",
        "for _ in range(5):\n",
        "  i = np.random.randint(iris.data.shape[0], size=1)[0]\n",
        "  print(f'Index {i}: Features: {iris.data[i]}, Target: {iris.target[i]}')"
      ],
      "metadata": {
        "colab": {
          "base_uri": "https://localhost:8080/"
        },
        "id": "Y3lwzoPJK9mz",
        "outputId": "6f96dbc3-bf92-4ac0-ecba-e537332a1044"
      },
      "execution_count": null,
      "outputs": [
        {
          "output_type": "stream",
          "name": "stdout",
          "text": [
            "Dataset shape: (150, 4)\n",
            "Feature Names: ['sepal length (cm)', 'sepal width (cm)', 'petal length (cm)', 'petal width (cm)']\n",
            "Target Names: ['setosa' 'versicolor' 'virginica']\n",
            "\n",
            "Examples:\n",
            "Index 48: Features: [5.3 3.7 1.5 0.2], Target: 0\n",
            "Index 57: Features: [4.9 2.4 3.3 1. ], Target: 1\n",
            "Index 139: Features: [6.9 3.1 5.4 2.1], Target: 2\n",
            "Index 100: Features: [6.3 3.3 6.  2.5], Target: 2\n",
            "Index 132: Features: [6.4 2.8 5.6 2.2], Target: 2\n"
          ]
        }
      ]
    },
    {
      "cell_type": "code",
      "source": [
        "# Map target to target names\n",
        "species_dict = dict(zip(range(0, len(iris.target_names)), iris.target_names))\n",
        "iris_species = list((map(lambda x : species_dict[x], iris.target)))"
      ],
      "metadata": {
        "id": "GP6akNVVYe3F"
      },
      "execution_count": null,
      "outputs": []
    },
    {
      "cell_type": "code",
      "source": [
        "# Create pd dataframe for features(x) and targets(y)\n",
        "x = pd.DataFrame(iris.data, columns=['sepal_length', 'sepal_width', 'petal_length', 'petal_width'])\n",
        "y = pd.DataFrame(iris.target, columns=['targets'])"
      ],
      "metadata": {
        "id": "HOO6DmssLJ1h"
      },
      "execution_count": null,
      "outputs": []
    },
    {
      "cell_type": "markdown",
      "source": [
        "The two features that separates the flowers are their sepal and their petal. We have data of the features respective lengths and widths, which will be used to differentiate between the flowers."
      ],
      "metadata": {
        "id": "l7ovz1-Tbfxx"
      }
    },
    {
      "cell_type": "markdown",
      "source": [
        "## Visualize raw data"
      ],
      "metadata": {
        "id": "3P4kJYwRcK4O"
      }
    },
    {
      "cell_type": "code",
      "source": [
        "plt.figure(figsize=(14,7))\n",
        "\n",
        "color_dict = {\n",
        "    0:'b', 1:'g',2:'r'\n",
        "}\n",
        "\n",
        "# Plot sepal\n",
        "plt.subplot(1, 2, 1) \n",
        "plt.title('Sepal')\n",
        "\n",
        "for i, row in x.iterrows():\n",
        "  color = color_dict[y.targets.iloc[i]]\n",
        "  plt.scatter(row['sepal_length'], row['sepal_width'], c=color)\n",
        "\n",
        "plt.xlabel('Length')\n",
        "plt.ylabel('Width')\n",
        "\n",
        "\n",
        "# Plot Petal\n",
        "plt.subplot(1, 2, 2) \n",
        "plt.title('Petal')\n",
        "\n",
        "for i, row in x.iterrows():\n",
        "  color = color_dict[y.targets.iloc[i]]\n",
        "  plt.scatter(row['petal_length'], row['petal_width'], c=color)\n",
        "  \n",
        "plt.xlabel('Length')\n",
        "plt.ylabel('Width')\n",
        "\n",
        "plt.show()"
      ],
      "metadata": {
        "colab": {
          "base_uri": "https://localhost:8080/",
          "height": 458
        },
        "id": "OxVf34Xfb8mX",
        "outputId": "afb77dc4-0472-4b8c-e6cc-454e96bb34af"
      },
      "execution_count": null,
      "outputs": [
        {
          "output_type": "display_data",
          "data": {
            "text/plain": [
              "<Figure size 1008x504 with 2 Axes>"
            ],
            "image/png": "[encoded data removed]"
          },
          "metadata": {
            "needs_background": "light"
          }
        }
      ]
    },
    {
      "cell_type": "markdown",
      "source": [
        "## Instantiate PCA (Principal Component Analysis)"
      ],
      "metadata": {
        "id": "hvZTSNF-koWD"
      }
    },
    {
      "cell_type": "markdown",
      "source": [
        "The iris dataset is 4-dimensional but its intrinsic dimensions, meaning the dimensions required to approximate the dataset, may be smaller. To find out what features are important, we need to plot the variances of the PCA features"
      ],
      "metadata": {
        "id": "A1XC8dHKlnBe"
      }
    },
    {
      "cell_type": "code",
      "source": [
        "from sklearn.decomposition import PCA\n",
        "from sklearn.preprocessing import StandardScaler\n",
        "\n",
        "scaler = StandardScaler()\n",
        "X_norm = scaler.fit_transform(x)\n",
        "\n",
        "pca = PCA()\n",
        "pca.fit(X_norm)"
      ],
      "metadata": {
        "colab": {
          "base_uri": "https://localhost:8080/"
        },
        "id": "M1Xorbf7kuCV",
        "outputId": "eaffea28-62a2-432c-900f-b44968a74287"
      },
      "execution_count": null,
      "outputs": [
        {
          "output_type": "execute_result",
          "data": {
            "text/plain": [
              "PCA()"
            ]
          },
          "metadata": {},
          "execution_count": 49
        }
      ]
    },
    {
      "cell_type": "code",
      "source": [
        "# Plot the PCA explained variances\n",
        "features = range(0, pca.n_components_)\n",
        "plt.bar(features, pca.explained_variance_)\n",
        "plt.xlabel('PCA feature')\n",
        "plt.ylabel('variance')\n",
        "plt.xticks(features)\n",
        "plt.show()"
      ],
      "metadata": {
        "colab": {
          "base_uri": "https://localhost:8080/",
          "height": 244
        },
        "id": "uWh5mssrnVf0",
        "outputId": "ed759327-a777-48de-a189-2998b5eb71fe"
      },
      "execution_count": null,
      "outputs": [
        {
          "output_type": "error",
          "ename": "NameError",
          "evalue": "ignored",
          "traceback": [
            "\u001b[0;31m---------------------------------------------------------------------------\u001b[0m",
            "\u001b[0;31mNameError\u001b[0m                                 Traceback (most recent call last)",
            "\u001b[0;32m<ipython-input-1-6e24ee97e021>\u001b[0m in \u001b[0;36m<module>\u001b[0;34m\u001b[0m\n\u001b[1;32m      1\u001b[0m \u001b[0;31m# Plot the PCA explained variances\u001b[0m\u001b[0;34m\u001b[0m\u001b[0;34m\u001b[0m\u001b[0;34m\u001b[0m\u001b[0m\n\u001b[0;32m----> 2\u001b[0;31m \u001b[0mfeatures\u001b[0m \u001b[0;34m=\u001b[0m \u001b[0mrange\u001b[0m\u001b[0;34m(\u001b[0m\u001b[0;36m0\u001b[0m\u001b[0;34m,\u001b[0m \u001b[0mpca\u001b[0m\u001b[0;34m.\u001b[0m\u001b[0mn_components_\u001b[0m\u001b[0;34m)\u001b[0m\u001b[0;34m\u001b[0m\u001b[0;34m\u001b[0m\u001b[0m\n\u001b[0m\u001b[1;32m      3\u001b[0m \u001b[0mplt\u001b[0m\u001b[0;34m.\u001b[0m\u001b[0mbar\u001b[0m\u001b[0;34m(\u001b[0m\u001b[0mfeatures\u001b[0m\u001b[0;34m,\u001b[0m \u001b[0mpca\u001b[0m\u001b[0;34m.\u001b[0m\u001b[0mexplained_variance_\u001b[0m\u001b[0;34m)\u001b[0m\u001b[0;34m\u001b[0m\u001b[0;34m\u001b[0m\u001b[0m\n\u001b[1;32m      4\u001b[0m \u001b[0mplt\u001b[0m\u001b[0;34m.\u001b[0m\u001b[0mxlabel\u001b[0m\u001b[0;34m(\u001b[0m\u001b[0;34m'PCA feature'\u001b[0m\u001b[0;34m)\u001b[0m\u001b[0;34m\u001b[0m\u001b[0;34m\u001b[0m\u001b[0m\n\u001b[1;32m      5\u001b[0m \u001b[0mplt\u001b[0m\u001b[0;34m.\u001b[0m\u001b[0mylabel\u001b[0m\u001b[0;34m(\u001b[0m\u001b[0;34m'variance'\u001b[0m\u001b[0;34m)\u001b[0m\u001b[0;34m\u001b[0m\u001b[0;34m\u001b[0m\u001b[0m\n",
            "\u001b[0;31mNameError\u001b[0m: name 'pca' is not defined"
          ]
        }
      ]
    },
    {
      "cell_type": "markdown",
      "source": [
        "We can see that only two features have a meaningful variance. Therefor we will use PCA for dimensionality reduction by creating a new PCA instance with n_components=2"
      ],
      "metadata": {
        "id": "s6YQryuW7arF"
      }
    },
    {
      "cell_type": "code",
      "source": [
        "pca = PCA(n_components=2)\n",
        "pca.fit(X_norm)\n",
        "pca_features = pca.transform(X_norm)"
      ],
      "metadata": {
        "id": "dOwl9wvvrxTc"
      },
      "execution_count": null,
      "outputs": []
    },
    {
      "cell_type": "code",
      "source": [
        "pca_features.shape"
      ],
      "metadata": {
        "colab": {
          "base_uri": "https://localhost:8080/"
        },
        "id": "ikNqxvNp74av",
        "outputId": "8804ec8d-d99f-4476-fa6e-c97dee80f4ad"
      },
      "execution_count": null,
      "outputs": [
        {
          "output_type": "execute_result",
          "data": {
            "text/plain": [
              "(150, 2)"
            ]
          },
          "metadata": {},
          "execution_count": 65
        }
      ]
    },
    {
      "cell_type": "markdown",
      "source": [
        "## Visualize normalized and dimensionality reduced data"
      ],
      "metadata": {
        "id": "JD_QAMHH8mgM"
      }
    },
    {
      "cell_type": "code",
      "source": [
        "color_dict = {\n",
        "    0:'b', 1:'g',2:'r'\n",
        "}\n",
        "\n",
        "for i in range(pca_features.shape[0]):\n",
        "  color = color_dict[y.targets.iloc[i]]\n",
        "  plt.scatter(pca_features[i,0], pca_features[i,1], c=color)\n",
        "\n",
        "plt.title('PCA features')\n",
        "plt.xlabel('Feature 1')\n",
        "plt.ylabel('Feature 2')\n",
        "plt.show()"
      ],
      "metadata": {
        "colab": {
          "base_uri": "https://localhost:8080/"
        },
        "id": "FhplDDVw8LMm",
        "outputId": "de333f27-4bcb-4d93-bab7-3923a0c488fc"
      },
      "execution_count": null,
      "outputs": [
        {
          "output_type": "display_data",
          "data": {
            "text/plain": [
              "<Figure size 432x288 with 1 Axes>"
            ],
            "image/png": "[encoded data removed]"
          },
          "metadata": {
            "needs_background": "light"
          }
        }
      ]
    },
    {
      "cell_type": "markdown",
      "source": [
        "# Implementing and visualizing kmeans clustering"
      ],
      "metadata": {
        "id": "RiD55KU2-ApO"
      }
    },
    {
      "cell_type": "markdown",
      "source": [
        "Kmeans clustering is an unsupervised learning technique that automatically groups data into coherent clusters\n",
        "\n",
        "It works by:\n",
        "\n",
        "\n",
        "1.   Randomly initialize K cluster centroids\n",
        "2.   While the clusters position is not unchanged:\n",
        "  1. For each data point, say x, find the cluster centroid closest to x.\n",
        "  2. Update cluster centers using data points assigned to them (Calculate the mean)\n"
      ],
      "metadata": {
        "id": "hLcfa0R--Obp"
      }
    },
    {
      "cell_type": "code",
      "source": [
        "from sklearn.cluster import KMeans\n",
        "\n",
        "model = KMeans(n_clusters=3)\n",
        "predicted_labels = model.fit_predict(pca_features)\n",
        "print(f'Model inertia: {model.inertia_} (lower is better)')"
      ],
      "metadata": {
        "colab": {
          "base_uri": "https://localhost:8080/"
        },
        "id": "3AvwWd-8-Fs3",
        "outputId": "93160f02-ed61-4d05-8cb1-68c6c8d77421"
      },
      "execution_count": null,
      "outputs": [
        {
          "output_type": "stream",
          "name": "stdout",
          "text": [
            "Model inertia: 115.02075663594002 (lower is better)\n"
          ]
        }
      ]
    },
    {
      "cell_type": "code",
      "source": [
        "df = pd.DataFrame({'predicted':predicted_labels, 'species':iris_species})\n",
        "ct = pd.crosstab(df['predicted'], df['species'])\n",
        "print(ct, '\\n')\n",
        "print(species_dict)"
      ],
      "metadata": {
        "colab": {
          "base_uri": "https://localhost:8080/"
        },
        "id": "xzQ7b8_zAg72",
        "outputId": "a1050614-2208-4fcb-a511-e951890efb7e"
      },
      "execution_count": null,
      "outputs": [
        {
          "output_type": "stream",
          "name": "stdout",
          "text": [
            "species    setosa  versicolor  virginica\n",
            "predicted                               \n",
            "0               0          39         14\n",
            "1              50           0          0\n",
            "2               0          11         36 \n",
            "\n",
            "{0: 'setosa', 1: 'versicolor', 2: 'virginica'}\n"
          ]
        }
      ]
    },
    {
      "cell_type": "markdown",
      "source": [
        "## Visualizing silhouette score"
      ],
      "metadata": {
        "id": "5fWDsuCGFFl2"
      }
    },
    {
      "cell_type": "code",
      "source": [
        "k_values = range(1,7)\n",
        "all_inertias = []\n",
        "\n",
        "for k in k_values:\n",
        "  model = KMeans(n_clusters=k)\n",
        "  model.fit(pca_features)\n",
        "  all_inertias.append(model.inertia_)\n",
        "\n",
        "plt.plot(k_values, all_inertias,'-o')\n",
        "plt.xlabel('number of clusters, k')\n",
        "plt.ylabel('inertia')\n",
        "plt.xticks(k_values)\n",
        "plt.show()"
      ],
      "metadata": {
        "colab": {
          "base_uri": "https://localhost:8080/",
          "height": 283
        },
        "id": "B8i4Z3ruFOLV",
        "outputId": "2b93ef23-2dbc-4eaf-97e2-fe4441c1123e"
      },
      "execution_count": null,
      "outputs": [
        {
          "output_type": "display_data",
          "data": {
            "text/plain": [
              "<Figure size 432x288 with 1 Axes>"
            ],
            "image/png": "[encoded data removed]"
          },
          "metadata": {
            "needs_background": "light"
          }
        }
      ]
    },
    {
      "cell_type": "markdown",
      "source": [
        "Even though lower inertia is better, inertia alone is not sufficient for choosing number of clusters (k). In this case we know that there are three separate species, hence n_clusters=3 is optimal in this case."
      ],
      "metadata": {
        "id": "wmYkt9jjGEIx"
      }
    }
  ]
}
